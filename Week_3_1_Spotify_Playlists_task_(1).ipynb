{
  "cells": [
    {
      "cell_type": "markdown",
      "metadata": {
        "id": "view-in-github",
        "colab_type": "text"
      },
      "source": [
        "<a href=\"https://colab.research.google.com/github/NaomiKemi/InClassAssignments/blob/main/Week_3_1_Spotify_Playlists_task_(1).ipynb\" target=\"_parent\"><img src=\"https://colab.research.google.com/assets/colab-badge.svg\" alt=\"Open In Colab\"/></a>"
      ]
    },
    {
      "cell_type": "markdown",
      "id": "d276f675",
      "metadata": {
        "id": "d276f675"
      },
      "source": [
        "# Week 3.1 Audio Features and Spotify Playlists\n",
        "\n",
        "For the second part of this week's lecture we are going to look at\n",
        "\n",
        "* The audio features that``Spotify's API`` will give us about **any track in its collection**\n",
        "\n",
        "\n",
        "* How these can be used to make recommendations based on song similarity\n",
        "\n",
        "\n",
        "First we need to install the ``spotipy`` library. The Spotify API is just a ``REST API`` like we might have seen before, so we could access using the ``request`` library ourselves, but this just wraps up some stuff nicely for us!"
      ]
    },
    {
      "cell_type": "code",
      "execution_count": null,
      "id": "68782ace",
      "metadata": {
        "id": "68782ace"
      },
      "outputs": [],
      "source": [
        "## Install library\n",
        "!pip install spotipy"
      ]
    },
    {
      "cell_type": "code",
      "execution_count": null,
      "id": "3cf3ea44",
      "metadata": {
        "id": "3cf3ea44"
      },
      "outputs": [],
      "source": [
        "import pandas as pd\n",
        "import numpy as np\n",
        "import matplotlib.pyplot as plt"
      ]
    },
    {
      "cell_type": "code",
      "execution_count": null,
      "id": "84209c4e",
      "metadata": {
        "id": "84209c4e"
      },
      "outputs": [],
      "source": [
        "##These relate to an App on my developer account at Spotify and are used for authentication\n",
        "SPOTIPY_CLIENT_ID='4547ac9120de4cbba75a19ee6dc3b908'\n",
        "SPOTIPY_CLIENT_SECRET='75fa035f5a0b47b7868e69a93ef878b4'"
      ]
    },
    {
      "cell_type": "code",
      "execution_count": null,
      "id": "02601025",
      "metadata": {
        "id": "02601025"
      },
      "outputs": [],
      "source": [
        "##First we authenticate\n",
        "import spotipy\n",
        "from spotipy.oauth2 import SpotifyClientCredentials\n",
        "\n",
        "auth_manager = SpotifyClientCredentials(SPOTIPY_CLIENT_ID,SPOTIPY_CLIENT_SECRET)\n",
        "sp = spotipy.Spotify(auth_manager=auth_manager)"
      ]
    },
    {
      "cell_type": "markdown",
      "id": "066e9f45",
      "metadata": {
        "id": "066e9f45"
      },
      "source": [
        "### Pick a playlist\n",
        "\n",
        "Now we need to pick a playlist to get some audio features for.\n",
        "\n",
        "To get the ``id``, sign into the [Spotify Web Player](https://open.spotify.com/) in your browser. When you have chosen a playlist (can be one of yours, or someone elses), the ``id`` will be the string of letters and numbers at the end of the ``URL``."
      ]
    },
    {
      "cell_type": "code",
      "execution_count": null,
      "id": "d5ba8d36",
      "metadata": {
        "id": "d5ba8d36"
      },
      "outputs": [],
      "source": [
        "#Put in the ID of a Spotify playlist of your choosing\n",
        "playlist_id = '3vRMCRWMVXLidpsrTJrCpe'"
      ]
    },
    {
      "cell_type": "code",
      "execution_count": null,
      "id": "58ebbf17",
      "metadata": {
        "id": "58ebbf17"
      },
      "outputs": [],
      "source": [
        "limit = 50\n",
        "trim = True"
      ]
    },
    {
      "cell_type": "code",
      "execution_count": null,
      "id": "5582928f",
      "metadata": {
        "id": "5582928f"
      },
      "outputs": [],
      "source": [
        "#Get playlsit\n",
        "playlist = sp.playlist(playlist_id)\n",
        "#Extract tracks\n",
        "tracks = playlist[\"tracks\"][\"items\"]\n",
        "if trim:\n",
        "    tracks = tracks[-limit:]\n",
        "#Extract track IDs\n",
        "ids = [track[\"track\"][\"id\"] for track in tracks]\n",
        "#Get audio features for tracks\n",
        "features =  pd.DataFrame(sp.audio_features(ids))\n",
        "#Label dataframe rows with track name and artist\n",
        "labels = [track[\"track\"][\"artists\"][0][\"name\"] + \" - \"+ track[\"track\"][\"name\"] for track in tracks]\n",
        "features.index = labels"
      ]
    },
    {
      "cell_type": "code",
      "execution_count": null,
      "id": "99c6e3f8",
      "metadata": {
        "id": "99c6e3f8"
      },
      "outputs": [],
      "source": [
        "features"
      ]
    },
    {
      "cell_type": "markdown",
      "id": "0ca80ca4",
      "metadata": {
        "id": "0ca80ca4"
      },
      "source": [
        "### Audio Features\n",
        "\n",
        "What audio features do we get? You can check out the [Spotify API Documentation](https://developer.spotify.com/documentation/web-api/reference/#/operations/get-several-audio-features)\n",
        "\n",
        "Some relate to known musical features such as ``key``, ``mode``,``tempo`` and ``time_signature``.\n",
        "\n",
        "Some are more related to the signal of the audio file itself (``loudness``, ``duration_ms``).\n",
        "\n",
        "Some are more descriptive (``danceability``, `liveness` etc..). As these are self defined by Spotify, how subjective do you think these ones might be?"
      ]
    },
    {
      "cell_type": "code",
      "execution_count": null,
      "id": "88de4534",
      "metadata": {
        "scrolled": true,
        "id": "88de4534"
      },
      "outputs": [],
      "source": [
        "#Check out features\n",
        "features.columns"
      ]
    },
    {
      "cell_type": "code",
      "execution_count": null,
      "id": "62c50ebf",
      "metadata": {
        "id": "62c50ebf"
      },
      "outputs": [],
      "source": [
        "#Drop columns that are not audio features\n",
        "my_features = ['danceability', 'energy', 'key',\n",
        "            'loudness', 'mode', 'speechiness',\n",
        "            'acousticness', 'instrumentalness',\n",
        "            'liveness', 'valence', 'tempo', 'duration_ms',\n",
        "            'time_signature']\n",
        "features = features[my_features]\n",
        "features"
      ]
    },
    {
      "cell_type": "markdown",
      "id": "8dda083f",
      "metadata": {
        "id": "8dda083f"
      },
      "source": [
        "### Task 1 - Sort by Audio Features\n",
        "\n",
        "In order to get a feel for features and what they represent, we are now going to use them to sort the playlist.\n",
        "\n",
        "Try out some different features.\n",
        "\n",
        "* What do low and high values for the each of the features sound like?\n",
        "\n",
        "\n",
        "* Given your knowledge of the songs, does this feel correct?\n",
        "\n",
        "\n",
        "* If there is a feature you are not sure what it measures, are you able to get a better understanding by looking at the sorted tracks?\n",
        "\n",
        "\n",
        "* Does this sorted order of the playlist flow well?\n"
      ]
    },
    {
      "cell_type": "code",
      "execution_count": null,
      "id": "1536fe4f",
      "metadata": {
        "id": "1536fe4f"
      },
      "outputs": [],
      "source": [
        "sort_by = 'liveness'\n",
        "features.sort_values(by = sort_by, ascending = False)[:10]"
      ]
    },
    {
      "cell_type": "markdown",
      "id": "fde84d8f",
      "metadata": {
        "id": "fde84d8f"
      },
      "source": [
        "### Task 2 - Song Similarity\n",
        "\n",
        "Now lets investigate which songs in the playlist are similar to each other based on a given set of features.\n",
        "\n",
        "Change the features in ``my_subset_features`` and re-run the code each time.\n",
        "\n",
        "* Do you think songs that have **high cosine similarity** (e.g. close to 1) are similar songs?\n",
        "\n",
        "\n",
        "* Do different subsets of features make seem to provide better results in this regard?"
      ]
    },
    {
      "cell_type": "code",
      "execution_count": null,
      "id": "d7372f1f",
      "metadata": {
        "id": "d7372f1f"
      },
      "outputs": [],
      "source": [
        "from sklearn.decomposition import PCA\n",
        "import matplotlib.pyplot as plt\n",
        "from sklearn.metrics.pairwise import cosine_similarity as cosine\n",
        "from sklearn.preprocessing import StandardScaler"
      ]
    },
    {
      "cell_type": "code",
      "execution_count": null,
      "id": "a310bf61",
      "metadata": {
        "id": "a310bf61"
      },
      "outputs": [],
      "source": [
        "my_subset_features = ['danceability', 'energy', 'key',\n",
        "            'loudness', 'mode', 'speechiness',\n",
        "            'acousticness', 'instrumentalness',\n",
        "            'liveness', 'valence', 'tempo', 'duration_ms',\n",
        "            'time_signature']"
      ]
    },
    {
      "cell_type": "code",
      "execution_count": null,
      "id": "a964a685",
      "metadata": {
        "scrolled": false,
        "id": "a964a685"
      },
      "outputs": [],
      "source": [
        "#Get subset\n",
        "subset_features = features[my_subset_features]\n",
        "#Standardise\n",
        "scaled_features = StandardScaler().fit_transform(subset_features)\n",
        "#Get cosine distances\n",
        "similarities = cosine(scaled_features)\n",
        "#Visualise\n",
        "similarities = pd.DataFrame(similarities, columns = features.index, index = features.index)\n",
        "similarities.style.background_gradient(cmap='Greens')"
      ]
    },
    {
      "cell_type": "markdown",
      "id": "3f92fe36",
      "metadata": {
        "id": "3f92fe36"
      },
      "source": [
        "### Task 3 - Top N Recommendations\n",
        "\n",
        "Now we're going to use the ``cosine similarity`` to make some recommedations!\n",
        "\n",
        "Pick a track (``artist - title``) and see which ``n`` songs are closed to it.\n",
        "\n",
        "* Are these good recommendations based on the seed track?\n",
        "\n",
        "\n",
        "* For higher values of n, how far before the recommendations start getting irrelevant?\n",
        "\n",
        "\n",
        "* Again, try different subsets of features (you will need to go back to Task 2 and run the code again)"
      ]
    },
    {
      "cell_type": "code",
      "execution_count": null,
      "id": "2eb59b5c",
      "metadata": {
        "id": "2eb59b5c"
      },
      "outputs": [],
      "source": [
        "track = \"DJ Paypal - We Finally Made It\""
      ]
    },
    {
      "cell_type": "code",
      "execution_count": null,
      "id": "90f8e908",
      "metadata": {
        "id": "90f8e908"
      },
      "outputs": [],
      "source": [
        "#How many tracks to recommend\n",
        "n = 10"
      ]
    },
    {
      "cell_type": "code",
      "execution_count": null,
      "id": "32c008e9",
      "metadata": {
        "id": "32c008e9"
      },
      "outputs": [],
      "source": [
        "similarities.sort_values(by = track, ascending=False)[track].index[1:n+1]"
      ]
    },
    {
      "cell_type": "markdown",
      "id": "027b2ddb",
      "metadata": {
        "id": "027b2ddb"
      },
      "source": [
        "### Task 4 - PCA Visualisation\n",
        "\n",
        "Do songs near each other sound the same? Given one, would the nearby songs make good recommendations?\n",
        "\n",
        "You may have to reduce the size of ``subset_features`` (and re-run code from Task 2 again) if there are too many songs to see properly!"
      ]
    },
    {
      "cell_type": "code",
      "execution_count": null,
      "id": "2dd73803",
      "metadata": {
        "id": "2dd73803"
      },
      "outputs": [],
      "source": [
        "num_dimensions = 2\n",
        "\n",
        "#Reduce dimensions\n",
        "pca = PCA(n_components=num_dimensions)\n",
        "reduced_features = pca.fit_transform(scaled_features)"
      ]
    },
    {
      "cell_type": "code",
      "execution_count": null,
      "id": "0b04e7c3",
      "metadata": {
        "id": "0b04e7c3"
      },
      "outputs": [],
      "source": [
        "#Plot\n",
        "plt.figure(figsize=(8, 8))\n",
        "fig,ax = plt.subplots(figsize=(15,15))\n",
        "x = reduced_features[:,0]\n",
        "y = reduced_features[:,1]\n",
        "ax.plot(x,y,\"bx\")\n",
        "annotations = subset_features.index\n",
        "for i, label in enumerate(annotations):\n",
        "    ax.annotate(label, (x[i], y[i]),alpha=1)"
      ]
    },
    {
      "cell_type": "code",
      "execution_count": null,
      "id": "2ee8c175",
      "metadata": {
        "id": "2ee8c175"
      },
      "outputs": [],
      "source": []
    }
  ],
  "metadata": {
    "kernelspec": {
      "display_name": "Python 3 (ipykernel)",
      "language": "python",
      "name": "python3"
    },
    "language_info": {
      "codemirror_mode": {
        "name": "ipython",
        "version": 3
      },
      "file_extension": ".py",
      "mimetype": "text/x-python",
      "name": "python",
      "nbconvert_exporter": "python",
      "pygments_lexer": "ipython3",
      "version": "3.9.13"
    },
    "varInspector": {
      "cols": {
        "lenName": 16,
        "lenType": 16,
        "lenVar": 40
      },
      "kernels_config": {
        "python": {
          "delete_cmd_postfix": "",
          "delete_cmd_prefix": "del ",
          "library": "var_list.py",
          "varRefreshCmd": "print(var_dic_list())"
        },
        "r": {
          "delete_cmd_postfix": ") ",
          "delete_cmd_prefix": "rm(",
          "library": "var_list.r",
          "varRefreshCmd": "cat(var_dic_list()) "
        }
      },
      "types_to_exclude": [
        "module",
        "function",
        "builtin_function_or_method",
        "instance",
        "_Feature"
      ],
      "window_display": false
    },
    "colab": {
      "provenance": [],
      "include_colab_link": true
    }
  },
  "nbformat": 4,
  "nbformat_minor": 5
}